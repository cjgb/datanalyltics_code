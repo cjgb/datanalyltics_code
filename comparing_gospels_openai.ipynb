{
 "cells": [
  {
   "cell_type": "markdown",
   "id": "c940c09a",
   "metadata": {},
   "source": [
    "# Analysis of the Gospels\n",
    "We well analyze _parallelism_ in two of the Gospels."
   ]
  },
  {
   "cell_type": "code",
   "execution_count": null,
   "id": "20a6905c",
   "metadata": {},
   "outputs": [],
   "source": [
    "import spacy\n",
    "import numpy as np\n",
    "import pandas as pd\n",
    "import re\n",
    "import openai\n",
    "from matplotlib import pyplot as plt\n",
    "import config\n",
    "\n",
    "openai.api_key = config.OPENAI_API_KEY\n",
    "\n",
    "nlp = spacy.load(\"en_core_web_md\") \n",
    "plt.rcParams['figure.figsize'] = [8, 4]"
   ]
  },
  {
   "cell_type": "markdown",
   "id": "1a2ffaa6",
   "metadata": {},
   "source": [
    "## Split into sentences"
   ]
  },
  {
   "cell_type": "code",
   "execution_count": null,
   "id": "bd08bfdc",
   "metadata": {},
   "outputs": [],
   "source": [
    "def process_file(filename):\n",
    "    with open(filename) as f:\n",
    "        text = f.readlines()\n",
    "    text  = \"\".join([x.replace('\\n', ' ') for x in text])\n",
    "    text = re.sub(' +', ' ', text)\n",
    "    doc = nlp(text)\n",
    "    return(list(doc.sents))"
   ]
  },
  {
   "cell_type": "code",
   "execution_count": null,
   "id": "3eaaccbb",
   "metadata": {},
   "outputs": [],
   "source": [
    "mat = process_file(\"mateo.txt\")\n",
    "mar = process_file(\"marcos.txt\")"
   ]
  },
  {
   "cell_type": "code",
   "execution_count": null,
   "id": "a332dd70",
   "metadata": {},
   "outputs": [],
   "source": [
    "len(mat), len(mar)"
   ]
  },
  {
   "cell_type": "markdown",
   "id": "3477c03d",
   "metadata": {},
   "source": [
    "## Sentences into tokens\n",
    "We will use OpenAI to transform sentences into vectors."
   ]
  },
  {
   "cell_type": "code",
   "execution_count": null,
   "id": "ab790fa2",
   "metadata": {},
   "outputs": [],
   "source": [
    "def get_embedding(sentence):\n",
    "    tmp = openai.Embedding.create(input = sentence, model=\"text-embedding-ada-002\")\n",
    "    return tmp['data'][0]['embedding']"
   ]
  },
  {
   "cell_type": "code",
   "execution_count": null,
   "id": "5ce340b1",
   "metadata": {},
   "outputs": [],
   "source": [
    "emb_mat = [get_embedding(str(x)) for x in mat]\n",
    "emb_mar = [get_embedding(str(x)) for x in mar]"
   ]
  },
  {
   "cell_type": "code",
   "execution_count": null,
   "id": "5c410674",
   "metadata": {},
   "outputs": [],
   "source": [
    "emb_mat = np.array(emb_mat)\n",
    "emb_mar = np.array(emb_mar)"
   ]
  },
  {
   "cell_type": "code",
   "execution_count": null,
   "id": "dc5ee527",
   "metadata": {},
   "outputs": [],
   "source": [
    "similitudes = np.matmul(emb_mat, emb_mar.T)\n",
    "similitudes.shape"
   ]
  },
  {
   "cell_type": "code",
   "execution_count": null,
   "id": "96a9f6a2",
   "metadata": {},
   "outputs": [],
   "source": [
    "plt.imshow(similitudes, interpolation='nearest', aspect = 'auto');"
   ]
  },
  {
   "cell_type": "code",
   "execution_count": null,
   "id": "e54306e3",
   "metadata": {},
   "outputs": [],
   "source": [
    "x_indices, y_indices = np.indices(similitudes.shape)\n",
    "dat = pd.DataFrame({\n",
    "    'x' : x_indices.flatten(),\n",
    "    'y' : y_indices.flatten(),\n",
    "    'd' : similitudes.flatten()\n",
    "})"
   ]
  },
  {
   "cell_type": "code",
   "execution_count": null,
   "id": "53c7c40a",
   "metadata": {},
   "outputs": [],
   "source": [
    "dat.sort_values('d').tail()"
   ]
  },
  {
   "cell_type": "code",
   "execution_count": null,
   "id": "75d408e9",
   "metadata": {},
   "outputs": [],
   "source": [
    "dat.d.hist()"
   ]
  },
  {
   "cell_type": "code",
   "execution_count": null,
   "id": "06b51b64",
   "metadata": {},
   "outputs": [],
   "source": [
    "dat['mat'] = dat.x.apply(lambda i: str(mat[i]))"
   ]
  },
  {
   "cell_type": "code",
   "execution_count": null,
   "id": "35588796",
   "metadata": {},
   "outputs": [],
   "source": [
    "dat['mar'] = dat.y.apply(lambda i: str(mar[i]))"
   ]
  },
  {
   "cell_type": "code",
   "execution_count": null,
   "id": "c59b0c29",
   "metadata": {},
   "outputs": [],
   "source": [
    "dat.sort_values('d', ascending = False).head(50)"
   ]
  }
 ],
 "metadata": {
  "kernelspec": {
   "display_name": "Python 3 (ipykernel)",
   "language": "python",
   "name": "python3"
  },
  "language_info": {
   "codemirror_mode": {
    "name": "ipython",
    "version": 3
   },
   "file_extension": ".py",
   "mimetype": "text/x-python",
   "name": "python",
   "nbconvert_exporter": "python",
   "pygments_lexer": "ipython3",
   "version": "3.11.4"
  }
 },
 "nbformat": 4,
 "nbformat_minor": 5
}
