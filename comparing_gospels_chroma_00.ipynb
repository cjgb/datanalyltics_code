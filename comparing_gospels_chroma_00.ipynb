{
 "cells": [
  {
   "cell_type": "markdown",
   "metadata": {},
   "source": [
    "## Analysis of the Gospels\n",
    "\n",
    "We well analyze parallelism in two of the Gospels. This time, using [Chroma](https://www.trychroma.com/).\n",
    "\n",
    "See [this](http://datanalytics.com/2023/10/31/paralelismo-embeddings/) for additional details."
   ]
  },
  {
   "cell_type": "code",
   "execution_count": null,
   "metadata": {},
   "outputs": [],
   "source": [
    "import os\n",
    "import chromadb\n",
    "import torch\n",
    "import pandas as pd\n",
    "import numpy as np\n",
    "\n",
    "import matplotlib.pyplot as plt\n",
    "from langchain.document_loaders import UnstructuredMarkdownLoader"
   ]
  },
  {
   "cell_type": "code",
   "execution_count": null,
   "metadata": {},
   "outputs": [],
   "source": [
    "base_path = '/home/carlos/staging/src/huggingface/texts'\n",
    "client = chromadb.PersistentClient(path=\"./blog_embeddings_00.chromadb\")"
   ]
  },
  {
   "cell_type": "code",
   "execution_count": null,
   "metadata": {},
   "outputs": [],
   "source": [
    "try:\n",
    "        client.delete_collection(name=\"evangelios\")\n",
    "except:\n",
    "        pass\n",
    "\n",
    "collection = client.create_collection(\n",
    "        name='evangelios',\n",
    "        metadata={'hnsw:space': 'cosine'})"
   ]
  },
  {
   "cell_type": "code",
   "execution_count": null,
   "metadata": {},
   "outputs": [],
   "source": [
    "my_files = os.listdir(base_path)\n",
    "\n",
    "for my_file in my_files:\n",
    "    print(my_file)\n",
    "    full_path = os.path.join(base_path, my_file)\n",
    "    loader = UnstructuredMarkdownLoader(full_path, mode=\"elements\")\n",
    "    data = loader.load()\n",
    "    sentences = [x.page_content for x in data]\n",
    "    ids = ['_'.join((my_file, str(a))) for a, _ in enumerate(data)]\n",
    "    metadata = [{'source': my_file}] * len(ids)\n",
    "    collection.add(\n",
    "        documents=sentences,\n",
    "        metadatas=metadata,\n",
    "        ids=ids\n",
    "    )"
   ]
  },
  {
   "cell_type": "code",
   "execution_count": null,
   "metadata": {},
   "outputs": [],
   "source": [
    "mateo = collection.get(\n",
    "    where={\"source\": \"mateo.txt\"}\n",
    ")\n",
    "\n",
    "marcos = collection.get(\n",
    "    where={\"source\": \"marcos.txt\"}\n",
    ")"
   ]
  },
  {
   "cell_type": "code",
   "execution_count": null,
   "metadata": {},
   "outputs": [],
   "source": [
    "sentences_mateo = mateo['documents']\n",
    "\n",
    "mateo_res = {}\n",
    "\n",
    "for i in range(len(sentences_mateo)):\n",
    "    #print(i)\n",
    "    res = collection.query(\n",
    "        query_texts=[sentences_mateo[i]],\n",
    "        n_results=10,\n",
    "        where={\"source\": \"marcos.txt\"}\n",
    "    )\n",
    "    ids = res['ids']\n",
    "    nums = [int(x.split('_')[1]) for x in ids[0]]\n",
    "    mateo_res[i] = nums\n",
    "\n"
   ]
  },
  {
   "cell_type": "code",
   "execution_count": null,
   "metadata": {},
   "outputs": [],
   "source": [
    "sentences_marcos = marcos['documents']\n",
    "\n",
    "marcos_res = {}\n",
    "\n",
    "for i in range(len(sentences_marcos)):\n",
    "    #print(i)\n",
    "    res = collection.query(\n",
    "        query_texts=[sentences_marcos[i]],\n",
    "        n_results=10,\n",
    "        where={\"source\": \"mateo.txt\"}\n",
    "    )\n",
    "    ids = res['ids']\n",
    "    nums = [int(x.split('_')[1]) for x in ids[0]]\n",
    "    marcos_res[i] = nums\n"
   ]
  },
  {
   "cell_type": "code",
   "execution_count": null,
   "metadata": {},
   "outputs": [],
   "source": [
    "tmp_mateo = pd.DataFrame.from_dict(mateo_res).T\n",
    "tmp_mateo = tmp_mateo.reset_index()\n",
    "tmp_mateo = tmp_mateo.melt(id_vars='index')\n",
    "tmp_mateo.columns = ['mateo_id', 'pos', 'marcos_id']\n",
    "tmp_mateo.head()"
   ]
  },
  {
   "cell_type": "code",
   "execution_count": null,
   "metadata": {},
   "outputs": [],
   "source": [
    "tmp_marcos = pd.DataFrame.from_dict(marcos_res).T\n",
    "tmp_marcos = tmp_marcos.reset_index()\n",
    "tmp_marcos = tmp_marcos.melt(id_vars='index')\n",
    "tmp_marcos.columns = ['marcos_id', 'pos', 'mateo_id']\n",
    "tmp_marcos = tmp_marcos[['mateo_id', 'pos', 'marcos_id']]\n",
    "tmp_marcos.head()"
   ]
  },
  {
   "cell_type": "code",
   "execution_count": null,
   "metadata": {},
   "outputs": [],
   "source": [
    "tmp = pd.concat([tmp_mateo, tmp_marcos])\n",
    "tmp.head()"
   ]
  },
  {
   "cell_type": "code",
   "execution_count": null,
   "metadata": {},
   "outputs": [],
   "source": [
    "m = np.zeros((tmp.mateo_id.max() + 1, tmp.marcos_id.max() + 1), dtype=int)\n",
    "for i, j in zip(tmp.mateo_id, tmp.marcos_id):\n",
    "    m[i, j] = 1"
   ]
  },
  {
   "cell_type": "code",
   "execution_count": null,
   "metadata": {},
   "outputs": [],
   "source": [
    "plt.imshow(m.T, cmap='binary', interpolation='none');"
   ]
  }
 ],
 "metadata": {
  "kernelspec": {
   "display_name": "huggingface-p54w0Sqk",
   "language": "python",
   "name": "python3"
  },
  "language_info": {
   "codemirror_mode": {
    "name": "ipython",
    "version": 3
   },
   "file_extension": ".py",
   "mimetype": "text/x-python",
   "name": "python",
   "nbconvert_exporter": "python",
   "pygments_lexer": "ipython3",
   "version": "3.11.6"
  }
 },
 "nbformat": 4,
 "nbformat_minor": 2
}
