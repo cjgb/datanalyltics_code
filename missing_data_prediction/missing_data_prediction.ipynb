{
 "cells": [
  {
   "attachments": {},
   "cell_type": "markdown",
   "id": "d0121fbc",
   "metadata": {},
   "source": [
    "# Linear model fitting with predictions\n",
    "\n",
    "Here we use `numpyro` to fit a linear model and make a prediction on one future value."
   ]
  },
  {
   "cell_type": "code",
   "execution_count": 1,
   "id": "ea1029f6",
   "metadata": {},
   "outputs": [
    {
     "name": "stderr",
     "output_type": "stream",
     "text": [
      "No GPU/TPU found, falling back to CPU. (Set TF_CPP_MIN_LOG_LEVEL=0 and rerun for more info.)\n"
     ]
    }
   ],
   "source": [
    "import matplotlib.pyplot as plt\n",
    "\n",
    "import jax.numpy as jnp\n",
    "from jax import random\n",
    "import pandas as pd\n",
    "\n",
    "import numpyro\n",
    "import numpyro.distributions as dist\n",
    "from numpyro.infer import MCMC, NUTS\n",
    "\n",
    "rng_key = random.PRNGKey(0)\n",
    "rng_key, rng_key_ = random.split(rng_key)"
   ]
  },
  {
   "attachments": {},
   "cell_type": "markdown",
   "id": "5e42a530",
   "metadata": {},
   "source": [
    "## Data loading & micro-EDA"
   ]
  },
  {
   "cell_type": "code",
   "execution_count": 2,
   "id": "e8687bab",
   "metadata": {},
   "outputs": [],
   "source": [
    "data = pd.read_csv('minimos.csv')\n",
    "data = data.rename(columns = {'variable' : 'year'})"
   ]
  },
  {
   "cell_type": "code",
   "execution_count": 3,
   "id": "77c98c8d",
   "metadata": {},
   "outputs": [
    {
     "data": {
      "text/html": [
       "<div>\n",
       "<style scoped>\n",
       "    .dataframe tbody tr th:only-of-type {\n",
       "        vertical-align: middle;\n",
       "    }\n",
       "\n",
       "    .dataframe tbody tr th {\n",
       "        vertical-align: top;\n",
       "    }\n",
       "\n",
       "    .dataframe thead th {\n",
       "        text-align: right;\n",
       "    }\n",
       "</style>\n",
       "<table border=\"1\" class=\"dataframe\">\n",
       "  <thead>\n",
       "    <tr style=\"text-align: right;\">\n",
       "      <th></th>\n",
       "      <th>year</th>\n",
       "      <th>min</th>\n",
       "    </tr>\n",
       "  </thead>\n",
       "  <tbody>\n",
       "    <tr>\n",
       "      <th>0</th>\n",
       "      <td>1979</td>\n",
       "      <td>6.903</td>\n",
       "    </tr>\n",
       "    <tr>\n",
       "      <th>1</th>\n",
       "      <td>1980</td>\n",
       "      <td>7.544</td>\n",
       "    </tr>\n",
       "    <tr>\n",
       "      <th>2</th>\n",
       "      <td>1981</td>\n",
       "      <td>6.903</td>\n",
       "    </tr>\n",
       "  </tbody>\n",
       "</table>\n",
       "</div>"
      ],
      "text/plain": [
       "   year    min\n",
       "0  1979  6.903\n",
       "1  1980  7.544\n",
       "2  1981  6.903"
      ]
     },
     "execution_count": 3,
     "metadata": {},
     "output_type": "execute_result"
    }
   ],
   "source": [
    "data.head(3)"
   ]
  },
  {
   "cell_type": "code",
   "execution_count": 4,
   "id": "00a90f38",
   "metadata": {},
   "outputs": [
    {
     "data": {
      "image/png": "[encoded data removed]",
      "text/plain": [
       "<Figure size 640x480 with 1 Axes>"
      ]
     },
     "metadata": {},
     "output_type": "display_data"
    }
   ],
   "source": [
    "plt.scatter(data['year'], data['min']);"
   ]
  },
  {
   "attachments": {},
   "cell_type": "markdown",
   "id": "d6b7b6bf",
   "metadata": {},
   "source": [
    "## Model"
   ]
  },
  {
   "cell_type": "code",
   "execution_count": 5,
   "id": "2bd9ed84",
   "metadata": {},
   "outputs": [],
   "source": [
    "years = jnp.array(data['year']) - 2000\n",
    "mins  = jnp.array(data['min'])"
   ]
  },
  {
   "cell_type": "code",
   "execution_count": 6,
   "id": "9ad2e24f",
   "metadata": {},
   "outputs": [],
   "source": [
    "def curve_fit(year, value):\n",
    "    a = numpyro.sample(\"a\", dist.Normal(5.5, 2))\n",
    "    b = numpyro.sample(\"b\", dist.HalfNormal(1)) \n",
    "    σ = numpyro.sample(\"σ\", dist.HalfNormal(1))\n",
    "\n",
    "    with numpyro.plate(\"lm\", len(year)):\n",
    "        numpyro.sample(\"obs\", dist.Normal(a - b * year, σ), obs = value)\n",
    "\n",
    "    v2023 = numpyro.sample(\"v2023\", dist.Normal(a - b * 23, σ))  \n",
    "    "
   ]
  },
  {
   "cell_type": "code",
   "execution_count": 7,
   "id": "b54fbf07",
   "metadata": {},
   "outputs": [
    {
     "name": "stderr",
     "output_type": "stream",
     "text": [
      "sample: 100%|██████████| 3000/3000 [00:06<00:00, 488.42it/s, 7 steps of size 6.50e-01. acc. prob=0.93]\n"
     ]
    }
   ],
   "source": [
    "kernel = NUTS(curve_fit)\n",
    "num_samples = 2000\n",
    "mcmc = MCMC(kernel, num_warmup=1000, num_samples=num_samples)\n",
    "mcmc.run(rng_key_, years, mins)"
   ]
  },
  {
   "cell_type": "code",
   "execution_count": 8,
   "id": "b86435a7",
   "metadata": {},
   "outputs": [
    {
     "name": "stdout",
     "output_type": "stream",
     "text": [
      "\n",
      "                mean       std    median      5.0%     95.0%     n_eff     r_hat\n",
      "         a      5.82      0.08      5.81      5.69      5.96   1815.97      1.00\n",
      "         b      0.08      0.01      0.08      0.07      0.09   2325.00      1.00\n",
      "     v2023      4.00      0.56      4.01      3.04      4.86   1902.10      1.00\n",
      "         σ      0.54      0.06      0.53      0.44      0.64   1285.83      1.00\n",
      "\n",
      "Number of divergences: 0\n"
     ]
    }
   ],
   "source": [
    "mcmc.print_summary()"
   ]
  },
  {
   "cell_type": "code",
   "execution_count": 9,
   "id": "b5257d7a",
   "metadata": {},
   "outputs": [],
   "source": [
    "samples = mcmc.get_samples()"
   ]
  },
  {
   "cell_type": "code",
   "execution_count": 10,
   "id": "3c80f074",
   "metadata": {},
   "outputs": [
    {
     "data": {
      "text/plain": [
       "(3.387, 4.674)"
      ]
     },
     "execution_count": 10,
     "metadata": {},
     "output_type": "execute_result"
    }
   ],
   "source": [
    "v2012 = data['min'].min()\n",
    "v2022 = data[data.year == 2022]['min'].min()\n",
    "v2012, v2022"
   ]
  },
  {
   "cell_type": "code",
   "execution_count": 11,
   "id": "8432b1aa",
   "metadata": {},
   "outputs": [
    {
     "data": {
      "image/png": "[encoded data removed]",
      "text/plain": [
       "<Figure size 640x480 with 1 Axes>"
      ]
     },
     "metadata": {},
     "output_type": "display_data"
    }
   ],
   "source": [
    "plt.hist(samples['v2023'], bins = 100)\n",
    "plt.axvline(x = v2012, color = 'red')\n",
    "plt.axvline(x = v2022, color = 'red');"
   ]
  },
  {
   "cell_type": "code",
   "execution_count": 12,
   "metadata": {},
   "outputs": [],
   "source": [
    "p0 = (samples['v2023'] < v2012).mean()\n",
    "p2 = (samples['v2023'] > v2022).mean()\n",
    "p1 = 1 - p0 - p2"
   ]
  },
  {
   "cell_type": "code",
   "execution_count": 13,
   "id": "f3879ddb",
   "metadata": {},
   "outputs": [
    {
     "data": {
      "text/plain": [
       "(Array(0.132, dtype=float32),\n",
       " Array(0.75450003, dtype=float32),\n",
       " Array(0.11350001, dtype=float32))"
      ]
     },
     "execution_count": 13,
     "metadata": {},
     "output_type": "execute_result"
    }
   ],
   "source": [
    "p0, p1, p2"
   ]
  }
 ],
 "metadata": {
  "kernelspec": {
   "display_name": "pyro-9mr6yf_Z",
   "language": "python",
   "name": "python3"
  },
  "language_info": {
   "codemirror_mode": {
    "name": "ipython",
    "version": 3
   },
   "file_extension": ".py",
   "mimetype": "text/x-python",
   "name": "python",
   "nbconvert_exporter": "python",
   "pygments_lexer": "ipython3",
   "version": "3.10.6"
  },
  "vscode": {
   "interpreter": {
    "hash": "6a48882fb0a67984bc749b78a8cc5621ac66bc8a7be1efd89e289f83c99d3291"
   }
  }
 },
 "nbformat": 4,
 "nbformat_minor": 5
}
