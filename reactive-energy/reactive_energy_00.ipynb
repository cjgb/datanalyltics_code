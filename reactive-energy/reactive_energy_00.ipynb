{
 "cells": [
  {
   "cell_type": "markdown",
   "metadata": {},
   "source": [
    "# Reactive power\n",
    "\n",
    "Nobody _really_ knows what reactive power is or how can it be the case that work is done when intensity and voltage have opposite signs. This humble mathematician has looked at the matter and created the following notebook.\n",
    "\n",
    "## Setup\n",
    "\n",
    "It will argument around the following circuit:\n",
    "\n",
    "<center><img src=\"circuit.png\"/></center>\n",
    "\n",
    "It contains an AC generator, one capacitor and one resistor (say, a bulb). Note that:\n",
    "\n",
    "- Capacitors absorbe and release energy. Over a full AC cycle, the net energy consumed by an ideal capacitor is 0. It does not mean that at a certain time point it is not draining energy from the grid, though.\n",
    "- Resistances do absorbe (or use) energy according to the $RI^2$ rule.\n",
    "\n",
    "But first, I am going to model the circuit. Then I'll ask the model a number of relevant questions."
   ]
  },
  {
   "cell_type": "code",
   "execution_count": null,
   "metadata": {},
   "outputs": [],
   "source": [
    "import numpy as np\n",
    "import matplotlib.pyplot as plt"
   ]
  },
  {
   "cell_type": "markdown",
   "metadata": {},
   "source": [
    "Constants and setup:"
   ]
  },
  {
   "cell_type": "code",
   "execution_count": null,
   "metadata": {},
   "outputs": [],
   "source": [
    "v_0 = 1.0   # peak AC voltage by \"the grid\"\n",
    "c   = 0.1   # capacitance\n",
    "r   = 3.0   # resistance\n",
    "\n",
    "# \"grid\" voltage over time (12 full cycles)\n",
    "t = np.linspace(0, 12, 10000)\n",
    "v = v_0 * np.sin(2 * np.pi * t)"
   ]
  },
  {
   "cell_type": "markdown",
   "metadata": {},
   "source": [
    "## Model\n",
    "\n",
    "First, we measure the capacitor voltage, $V_c$ over time. On the one hand, we have the _voltage_ equation\n",
    "\n",
    "$$V(t) = I(t)R + V_c(t);$$\n",
    "\n",
    "on the other, derived from $Q_c = C V_c$,\n",
    "\n",
    "$$\\frac{dQ_c}{dt} = I(t) = C \\frac{dV_c}{dt}.$$\n",
    "\n",
    "Combine them and you have\n",
    "\n",
    "$$\\frac{dV_c}{dt} = \\frac{V(t) - V_c(t)}{RC}.$$\n",
    "\n",
    "Later, having calculated $V_c$, you can get $I(t)$\n",
    "\n",
    "$$I(t) = C \\frac{dV_c}{dt} = \\frac{V(t) - V_c(t)}{R}.$$\n",
    "\n",
    "This is,"
   ]
  },
  {
   "cell_type": "code",
   "execution_count": null,
   "metadata": {},
   "outputs": [],
   "source": [
    "t_incr = np.max(t) / len(t)\n",
    "v_c = np.zeros(len(t))\n",
    "intensity = np.zeros(len(t))\n",
    "\n",
    "for i in range(1, len(t)):\n",
    "    v_c[i] = v_c[i - 1] + t_incr * (v[i-1] - v_c[i-1]) / (r * c)\n",
    "\n",
    "intensity = (v - v_c) / r"
   ]
  },
  {
   "cell_type": "markdown",
   "metadata": {},
   "source": [
    "## Simulation results\n",
    "\n",
    "As expected, there is a mismatch between the grid and the capacitor voltages:"
   ]
  },
  {
   "cell_type": "code",
   "execution_count": null,
   "metadata": {},
   "outputs": [],
   "source": [
    "plt.plot(t, v,  color='red');\n",
    "plt.plot(t, v_c, color='blue');"
   ]
  },
  {
   "cell_type": "markdown",
   "metadata": {},
   "source": [
    "Also, between grid voltage and intensity:"
   ]
  },
  {
   "cell_type": "code",
   "execution_count": null,
   "metadata": {},
   "outputs": [],
   "source": [
    "plt.plot(t, v,  color='red');\n",
    "plt.plot(t, intensity, color='blue');"
   ]
  },
  {
   "cell_type": "markdown",
   "metadata": {},
   "source": [
    "At some points, they have different signs. It happens when:\n",
    "- Grid voltage is low (in absolute terms).\n",
    "- The capacitor is releasing energy (discharging). Part of this energy will be consumed by the resistance and the rest will flow back to the grid.\n",
    "\n",
    "If the voltage of the capacitor is higher than the grid's, the capacitor will push current to the grid and beat all those mighty nuclear power stations, hydropower plants, etc. on the other side!"
   ]
  },
  {
   "cell_type": "markdown",
   "metadata": {},
   "source": [
    "But let's look at what happens to the bulb itself. The bulb does not know anything about the external world. It only finds a voltage difference (equal to $V(t)- V_c(t)$) and an intensity $I(t)$ flowing through it. And they are _perfectly aligned_, as expected:"
   ]
  },
  {
   "cell_type": "code",
   "execution_count": null,
   "metadata": {},
   "outputs": [],
   "source": [
    "plt.plot(t, v - v_c,  color='red');\n",
    "plt.plot(t, intensity, color='blue');"
   ]
  },
  {
   "cell_type": "markdown",
   "metadata": {},
   "source": [
    "## Energy considerations\n",
    "\n",
    "Let's look now at the energy consumed by our circuit during the full 12 cycles. I'll do it in three different ways.\n",
    "\n",
    "For the first one, I will use the fact that:\n",
    "- Over a cycle, the capacitor consumes no energy.\n",
    "- Only the bulb consumes energy.\n",
    "\n",
    "So I can just do $\\int_0^T R I^2(t) dt$ or, equivalently, \n",
    "\n",
    "$$\\int_0^T V_b(t) I(t) dt = \\int_0^T (V(t) - V_c(t)) I(t) dt.$$"
   ]
  },
  {
   "cell_type": "code",
   "execution_count": null,
   "metadata": {},
   "outputs": [],
   "source": [
    "real_energy_0 = t_incr * np.sum(r * intensity**2)\n",
    "real_energy_0"
   ]
  },
  {
   "cell_type": "markdown",
   "metadata": {},
   "source": [
    "Check:"
   ]
  },
  {
   "cell_type": "code",
   "execution_count": null,
   "metadata": {},
   "outputs": [],
   "source": [
    "t_incr * np.sum((v - v_c) * intensity)"
   ]
  },
  {
   "cell_type": "markdown",
   "metadata": {},
   "source": [
    "Note that Schwarz's inequality states that\n",
    "\n",
    "$$\\int f(t) g(t) dt \\le \\sqrt{\\int f^2(t) dt \\int g^2(t) dt}$$\n",
    "\n",
    "and that the inequality becomes an equality if $f(t) = \\lambda g(t)$ for some $\\lambda$. But this is our case! Here,"
   ]
  },
  {
   "cell_type": "code",
   "execution_count": null,
   "metadata": {},
   "outputs": [],
   "source": [
    "v_rms = np.sqrt(t_incr * np.sum((v - v_c) **2))\n",
    "i_rms = np.sqrt(t_incr * np.sum(intensity **2))\n",
    "i_rms * v_rms"
   ]
  },
  {
   "cell_type": "markdown",
   "metadata": {},
   "source": [
    "(And, please, note how the fact that the voltage is a sinusoid has not been used above for anything whatsoever.)"
   ]
  },
  {
   "cell_type": "markdown",
   "metadata": {},
   "source": [
    "Now, let's calculate the energy from the grid perspective. The grid knows nothing about what the circuit contains. In only sees its own voltage an the current through it. The energy is:\n",
    "\n",
    "$$\\int_0^T V(t) I(t) dt.$$"
   ]
  },
  {
   "cell_type": "code",
   "execution_count": null,
   "metadata": {},
   "outputs": [],
   "source": [
    "real_energy_1 = t_incr * np.sum(v * intensity)\n",
    "real_energy_1 "
   ]
  },
  {
   "cell_type": "markdown",
   "metadata": {},
   "source": [
    "Note that the summands in the previous expression are not all positive. At some very short time intervals, energy is flowing out of the circuit to the grid, as indicated before.\n",
    "\n",
    "But we can still play with the expression\n",
    "\n",
    "$$\\int_0^T V(t) I(t) dt$$\n",
    "\n",
    "rewriting it as \n",
    "\n",
    "$$\\int_0^T (V(t) - V_c(t)) I(t) dt + \\int_0^T V_c(t) I(t) dt.$$\n",
    "\n",
    "The first integral is the _bulb's integral_, the second one, the _capacitor's_. We know that this second one evaluates to zero:"
   ]
  },
  {
   "cell_type": "code",
   "execution_count": null,
   "metadata": {},
   "outputs": [],
   "source": [
    "t_incr * np.sum(v_c * intensity)"
   ]
  },
  {
   "cell_type": "markdown",
   "metadata": {},
   "source": [
    "But in this case the product of the _root mean average_ voltages and intensities, is far ---because of Schwarz's inequality it has to be greater--- from the actual readings:"
   ]
  },
  {
   "cell_type": "code",
   "execution_count": null,
   "metadata": {},
   "outputs": [],
   "source": [
    "v_rms = np.sqrt(t_incr * np.sum(v**2))\n",
    "i_rms = np.sqrt(t_incr * np.sum(intensity **2))\n",
    "i_rms * v_rms"
   ]
  },
  {
   "cell_type": "markdown",
   "metadata": {},
   "source": [
    "If you have independent voltage and intensity measures, often aggregated in the form of _root mean squared_ values, their product will overestimate the actual energy consumed by the circuit."
   ]
  },
  {
   "cell_type": "markdown",
   "metadata": {},
   "source": [
    "## Final notes\n",
    "\n",
    "A discrepancy between the _apparent_ and the _real_ energy is a consequence of Schwarz's inequality. It will appear whenever $V \\neq \\lambda I$. And there may be different non-excluding scenarios in which this discrepancy may happen:\n",
    "\n",
    "- There is a phase discrepancy between $V$ and $I$, as in the circuit above.\n",
    "- $I$ has a _different shape_ than $V$ because of [switched power supplies](https://en.wikipedia.org/wiki/Switched-mode_power_supply), for instance.\n",
    "\n",
    "As we speak, in my home, the _rms_ intensity and voltage are $1.32 A$ and $231.4 V$ respectively. The apparent power is then $305.44 W$. However, the actual reading is of $265 W$.\n",
    "\n",
    "The difference is today's Mr. Schwartz's meal."
   ]
  }
 ],
 "metadata": {
  "kernelspec": {
   "display_name": "Python 3",
   "language": "python",
   "name": "python3"
  },
  "language_info": {
   "codemirror_mode": {
    "name": "ipython",
    "version": 3
   },
   "file_extension": ".py",
   "mimetype": "text/x-python",
   "name": "python",
   "nbconvert_exporter": "python",
   "pygments_lexer": "ipython3",
   "version": "3.11.4"
  },
  "orig_nbformat": 4
 },
 "nbformat": 4,
 "nbformat_minor": 2
}
