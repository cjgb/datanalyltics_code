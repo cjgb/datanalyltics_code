{
 "cells": [
  {
   "attachments": {},
   "cell_type": "markdown",
   "id": "14bf28f3",
   "metadata": {},
   "source": [
    "# Fitting a 3PL model using numpyro: predictions\n",
    "\n",
    "This dashboard extends a previous one in the same directory where `numpyro` was used to fit the 3PL model. You can refer to it for details. This time, the objective will be to get predictions out of the model. "
   ]
  },
  {
   "cell_type": "code",
   "execution_count": 1,
   "id": "e4a3679f",
   "metadata": {},
   "outputs": [],
   "source": [
    "import pandas as pd\n",
    "import numpy as np\n",
    "\n",
    "import jax\n",
    "import jax.numpy as jnp\n",
    "\n",
    "import numpyro\n",
    "from numpyro.distributions import Normal, Beta, HalfNormal, Bernoulli\n",
    "from numpyro.infer import MCMC, NUTS\n",
    "from numpyro.handlers import condition, seed, substitute\n",
    "\n",
    "\n",
    "from matplotlib import pyplot as plt\n",
    "plt.rcParams[\"figure.figsize\"] = (10, 5)\n",
    "\n",
    "import os\n",
    "os.environ['XLA_FLAGS'] = \"--xla_force_host_platform_device_count=4\""
   ]
  },
  {
   "attachments": {},
   "cell_type": "markdown",
   "id": "490613e9",
   "metadata": {},
   "source": [
    "## Import data\n",
    "\n",
    "The data contains scores (0/1) for 13 exam questions and 729 students."
   ]
  },
  {
   "cell_type": "code",
   "execution_count": 2,
   "id": "f08ed981",
   "metadata": {},
   "outputs": [
    {
     "data": {
      "text/html": [
       "<div>\n",
       "<style scoped>\n",
       "    .dataframe tbody tr th:only-of-type {\n",
       "        vertical-align: middle;\n",
       "    }\n",
       "\n",
       "    .dataframe tbody tr th {\n",
       "        vertical-align: top;\n",
       "    }\n",
       "\n",
       "    .dataframe thead th {\n",
       "        text-align: right;\n",
       "    }\n",
       "</style>\n",
       "<table border=\"1\" class=\"dataframe\">\n",
       "  <thead>\n",
       "    <tr style=\"text-align: right;\">\n",
       "      <th></th>\n",
       "      <th>quad</th>\n",
       "      <th>deriv</th>\n",
       "      <th>elasticity</th>\n",
       "      <th>integral</th>\n",
       "      <th>interest</th>\n",
       "      <th>annuity</th>\n",
       "      <th>payflow</th>\n",
       "      <th>matrix</th>\n",
       "      <th>planning</th>\n",
       "      <th>equations</th>\n",
       "      <th>hesse</th>\n",
       "      <th>implicit</th>\n",
       "      <th>lagrange</th>\n",
       "    </tr>\n",
       "  </thead>\n",
       "  <tbody>\n",
       "    <tr>\n",
       "      <th>0</th>\n",
       "      <td>1</td>\n",
       "      <td>1</td>\n",
       "      <td>1</td>\n",
       "      <td>0</td>\n",
       "      <td>1</td>\n",
       "      <td>1</td>\n",
       "      <td>0</td>\n",
       "      <td>1</td>\n",
       "      <td>1</td>\n",
       "      <td>0</td>\n",
       "      <td>1</td>\n",
       "      <td>1</td>\n",
       "      <td>0</td>\n",
       "    </tr>\n",
       "    <tr>\n",
       "      <th>1</th>\n",
       "      <td>1</td>\n",
       "      <td>1</td>\n",
       "      <td>1</td>\n",
       "      <td>1</td>\n",
       "      <td>0</td>\n",
       "      <td>0</td>\n",
       "      <td>0</td>\n",
       "      <td>1</td>\n",
       "      <td>1</td>\n",
       "      <td>1</td>\n",
       "      <td>1</td>\n",
       "      <td>1</td>\n",
       "      <td>1</td>\n",
       "    </tr>\n",
       "    <tr>\n",
       "      <th>2</th>\n",
       "      <td>1</td>\n",
       "      <td>1</td>\n",
       "      <td>1</td>\n",
       "      <td>1</td>\n",
       "      <td>1</td>\n",
       "      <td>1</td>\n",
       "      <td>1</td>\n",
       "      <td>1</td>\n",
       "      <td>1</td>\n",
       "      <td>1</td>\n",
       "      <td>1</td>\n",
       "      <td>1</td>\n",
       "      <td>1</td>\n",
       "    </tr>\n",
       "    <tr>\n",
       "      <th>3</th>\n",
       "      <td>0</td>\n",
       "      <td>0</td>\n",
       "      <td>1</td>\n",
       "      <td>0</td>\n",
       "      <td>0</td>\n",
       "      <td>1</td>\n",
       "      <td>0</td>\n",
       "      <td>1</td>\n",
       "      <td>1</td>\n",
       "      <td>0</td>\n",
       "      <td>0</td>\n",
       "      <td>1</td>\n",
       "      <td>0</td>\n",
       "    </tr>\n",
       "    <tr>\n",
       "      <th>4</th>\n",
       "      <td>0</td>\n",
       "      <td>1</td>\n",
       "      <td>0</td>\n",
       "      <td>1</td>\n",
       "      <td>1</td>\n",
       "      <td>1</td>\n",
       "      <td>1</td>\n",
       "      <td>1</td>\n",
       "      <td>1</td>\n",
       "      <td>1</td>\n",
       "      <td>1</td>\n",
       "      <td>1</td>\n",
       "      <td>1</td>\n",
       "    </tr>\n",
       "  </tbody>\n",
       "</table>\n",
       "</div>"
      ],
      "text/plain": [
       "   quad  deriv  elasticity  integral  interest  annuity  payflow  matrix  \\\n",
       "0     1      1           1         0         1        1        0       1   \n",
       "1     1      1           1         1         0        0        0       1   \n",
       "2     1      1           1         1         1        1        1       1   \n",
       "3     0      0           1         0         0        1        0       1   \n",
       "4     0      1           0         1         1        1        1       1   \n",
       "\n",
       "   planning  equations  hesse  implicit  lagrange  \n",
       "0         1          0      1         1         0  \n",
       "1         1          1      1         1         1  \n",
       "2         1          1      1         1         1  \n",
       "3         1          0      0         1         0  \n",
       "4         1          1      1         1         1  "
      ]
     },
     "execution_count": 2,
     "metadata": {},
     "output_type": "execute_result"
    }
   ],
   "source": [
    "data = pd.read_csv(\"math_exam.csv\")\n",
    "data.head()"
   ]
  },
  {
   "attachments": {},
   "cell_type": "markdown",
   "id": "f65be969",
   "metadata": {},
   "source": [
    "## Model\n",
    "\n",
    "The model provides the probability that student $i$ with _ability_ $\\theta_i$ answers question $j$ correctly using the following formula:\n",
    "\n",
    "$$p_i(\\theta) = g_j + \\frac{1 - g_j}{1 + \\exp(-d_j(\\theta_i - b_j)) }$$\n",
    "\n",
    "where:\n",
    "\n",
    "- $g_j$ is the probability of getting the answer correctly by guessing\n",
    "- $b_j$ is the difficulty of the question (that subtracts from the student ability)\n",
    "- $d_j$ is the discriminatory power of the question, i.e., how well it discriminates according to the _net ability_.\n",
    "\n",
    "The model can be programmed in `numpyro` as follows:"
   ]
  },
  {
   "cell_type": "code",
   "execution_count": 3,
   "id": "cd19f298",
   "metadata": {},
   "outputs": [
    {
     "name": "stderr",
     "output_type": "stream",
     "text": [
      "No GPU/TPU found, falling back to CPU. (Set TF_CPP_MIN_LOG_LEVEL=0 and rerun for more info.)\n",
      "sample: 100%|██████████| 3000/3000 [00:28<00:00, 104.05it/s, 31 steps of size 1.19e-01. acc. prob=0.88]\n"
     ]
    }
   ],
   "source": [
    "def model3pl(scores, n_students, n_questions):\n",
    "    with numpyro.plate(\"students\", n_students):\n",
    "        ability = numpyro.sample(\"ability\", Normal(0, 1))\n",
    "\n",
    "    with numpyro.plate(\"questions\", n_questions):\n",
    "        guessing = numpyro.sample(\"guessing\", Beta(1, 1))\n",
    "        discrimination = numpyro.sample(\"discrimination\", HalfNormal(1))     \n",
    "        difficulty = numpyro.sample(\"difficulty\", Normal(0, 1))     \n",
    "\n",
    "    probs = ability[:, jnp.newaxis] - difficulty\n",
    "    probs = jnp.exp(-discrimination * probs)\n",
    "    probs = guessing + (1 - guessing) / (1 + probs)\n",
    "  \n",
    "    probs = jnp.reshape(jnp.array(probs), (-1))\n",
    "\n",
    "    return numpyro.sample(\"scores\", Bernoulli(probs), obs = scores)\n",
    "\n",
    "\n",
    "rng_key = jax.random.PRNGKey(0)\n",
    "kernel = NUTS(model3pl)\n",
    "mcmc   = MCMC(kernel, num_warmup=1000, num_samples=2000)\n",
    "\n",
    "mcmc.run(\n",
    "    rng_key, \n",
    "    scores = jnp.reshape(data.to_numpy(), (-1)),\n",
    "    n_students = data.shape[0],\n",
    "    n_questions = data.shape[1])\n",
    "\n",
    "samples = mcmc.get_samples()"
   ]
  },
  {
   "attachments": {},
   "cell_type": "markdown",
   "id": "da1b5426",
   "metadata": {},
   "source": [
    "## Generating new data and predicting outcomes\n",
    "\n",
    "Now, we will do a prediction on a _fresh_ set of students taking the same exam. First, we'll generate the abilities for a set of 100 students:"
   ]
  },
  {
   "cell_type": "code",
   "execution_count": 4,
   "id": "6bfaca38",
   "metadata": {},
   "outputs": [],
   "source": [
    "n_students = 100\n",
    "abilities = np.random.normal(0.0, 1.0, n_students)"
   ]
  },
  {
   "cell_type": "markdown",
   "id": "bd018cae",
   "metadata": {},
   "source": [
    "The next step is to predict the outcomes for the exam on this new set of students. For that purpose, we'll rerun the model\n",
    "- conditioning on the new students abilities and\n",
    "- capturing the output question probabilities out of the model.\n",
    "\n",
    "The process will be as follows:\n",
    "- For each simulation, we obtain a possible exam result.\n",
    "- We obtain the average number of right answers across simulations.\n",
    "- We use these averages as the probabilities to get a right answer.\n",
    "- We feed these probabilities to a Binomial rv generator.\n",
    "\n",
    "At the end, we'll have a `n_students x n_questions` matrix with 0-1 values."
   ]
  },
  {
   "cell_type": "code",
   "execution_count": 5,
   "id": "17e41164",
   "metadata": {},
   "outputs": [
    {
     "data": {
      "text/plain": [
       "array([[1, 1, 1, ..., 1, 1, 1],\n",
       "       [0, 1, 0, ..., 0, 1, 0],\n",
       "       [1, 0, 1, ..., 0, 1, 1],\n",
       "       ...,\n",
       "       [0, 1, 1, ..., 1, 0, 0],\n",
       "       [1, 1, 1, ..., 1, 1, 1],\n",
       "       [1, 0, 1, ..., 1, 1, 0]])"
      ]
     },
     "execution_count": 5,
     "metadata": {},
     "output_type": "execute_result"
    }
   ],
   "source": [
    "def sample_test_resuls(i):\n",
    "    new_params = {parm : samples[parm][i] for parm in samples}\n",
    "    new_params['ability'] = abilities\n",
    "\n",
    "    preds = condition(seed(model3pl, rng_key), new_params)(None, n_students, data.shape[1])  \n",
    "    return preds\n",
    "\n",
    "probs = [sample_test_resuls(i) for i in range(samples['difficulty'].shape[0])]\n",
    "tmp = np.vstack(probs)\n",
    "tmp = tmp.mean(axis = 0)\n",
    "\n",
    "tmp = np.random.binomial(1, tmp)\n",
    "preds = jnp.reshape(tmp, (n_students, data.shape[1]))\n",
    "preds"
   ]
  },
  {
   "cell_type": "markdown",
   "id": "9af28500",
   "metadata": {},
   "source": [
    "Here we can check how well the new scores align with the student abilities."
   ]
  },
  {
   "cell_type": "code",
   "execution_count": 6,
   "id": "b4633f39",
   "metadata": {},
   "outputs": [
    {
     "data": {
      "image/png": "[encoded data removed]",
      "text/plain": [
       "<Figure size 1000x500 with 1 Axes>"
      ]
     },
     "metadata": {},
     "output_type": "display_data"
    }
   ],
   "source": [
    "plt.scatter(abilities, preds.mean(axis = 1));"
   ]
  },
  {
   "cell_type": "markdown",
   "id": "f4ab21f5",
   "metadata": {},
   "source": [
    "## Predicting abilities using the original model\n",
    "\n",
    "If the question parameters were fixed and known, we could refit the model replacing the _sample sites_ for the questions with the actual fitted parameters. However, there is uncertainty in the question parameters.\n",
    "\n",
    "Also, we do not wish to refit the model using the new batch of students: we do not want the new batch to influence the question parameters. Likewise, we do not want to refit the model using the combined set of students. Again, it would bias the question parameters.\n",
    "\n",
    "(I am thinking about this exercise as a calibration-application exercise: the first student batch is used to calibrate the questions; then we just want to test student ability using these already calibrated questions.)\n",
    "\n",
    "So the process will proceed as follows:\n",
    "- We select a sample of posterior sample ids.\n",
    "- For each of them, we fix the question sites to the sample values.\n",
    "- We refit the model (which will affect the student performance scores).\n",
    "- We keep a number (just a few) samples for each run.\n",
    "- We stack all these samples.\n",
    "\n",
    "In summary, we want to sample the distribution\n",
    "\n",
    "$$\\int p(s_i | \\theta, R_1) p(\\theta, R_0) d\\theta $$\n",
    "\n",
    "where \n",
    "\n",
    "- $R_i$ are the results of exams 0 and 1, \n",
    "- $p(\\theta, R_0)$ is the posterior of the exam parameters as estimated in the previous fit, and\n",
    "- $p(s_i | \\theta, R_1)$ is the posterior of the student abilities for a fixed set of exam parameters $\\theta$.\n",
    "\n",
    "Obviously, if $p(\\theta, R_0)$ was concentrated at $\\theta_0$ the previous expression would reduce to $p(s_i | \\theta_0, R_1)$, a much simpler distribution to estimate."
   ]
  },
  {
   "cell_type": "code",
   "execution_count": 7,
   "id": "b06a833d",
   "metadata": {},
   "outputs": [
    {
     "name": "stderr",
     "output_type": "stream",
     "text": [
      "sample: 100%|██████████| 1100/1100 [00:03<00:00, 347.88it/s, 15 steps of size 4.01e-01. acc. prob=0.87]\n",
      "sample: 100%|██████████| 1100/1100 [00:02<00:00, 377.20it/s, 7 steps of size 4.29e-01. acc. prob=0.86]\n",
      "sample: 100%|██████████| 1100/1100 [00:03<00:00, 329.66it/s, 47 steps of size 4.25e-01. acc. prob=0.85]\n",
      "sample: 100%|██████████| 1100/1100 [00:02<00:00, 381.03it/s, 15 steps of size 4.05e-01. acc. prob=0.87]\n",
      "sample: 100%|██████████| 1100/1100 [00:02<00:00, 370.38it/s, 15 steps of size 4.43e-01. acc. prob=0.87]\n",
      "sample: 100%|██████████| 1100/1100 [00:02<00:00, 370.87it/s, 15 steps of size 4.17e-01. acc. prob=0.87]\n",
      "sample: 100%|██████████| 1100/1100 [00:03<00:00, 360.88it/s, 7 steps of size 4.37e-01. acc. prob=0.86]\n",
      "sample: 100%|██████████| 1100/1100 [00:03<00:00, 361.33it/s, 15 steps of size 4.12e-01. acc. prob=0.86]\n",
      "sample: 100%|██████████| 1100/1100 [00:02<00:00, 379.76it/s, 47 steps of size 4.33e-01. acc. prob=0.86]\n",
      "sample: 100%|██████████| 1100/1100 [00:02<00:00, 375.50it/s, 15 steps of size 3.97e-01. acc. prob=0.86]\n",
      "sample: 100%|██████████| 1100/1100 [00:04<00:00, 270.18it/s, 7 steps of size 4.20e-01. acc. prob=0.86] \n",
      "sample: 100%|██████████| 1100/1100 [00:04<00:00, 248.38it/s, 7 steps of size 4.22e-01. acc. prob=0.87]\n",
      "sample: 100%|██████████| 1100/1100 [00:04<00:00, 254.55it/s, 15 steps of size 3.82e-01. acc. prob=0.89]\n",
      "sample: 100%|██████████| 1100/1100 [00:03<00:00, 304.96it/s, 15 steps of size 4.08e-01. acc. prob=0.85]\n",
      "sample: 100%|██████████| 1100/1100 [00:03<00:00, 339.07it/s, 15 steps of size 3.92e-01. acc. prob=0.89]\n",
      "sample: 100%|██████████| 1100/1100 [00:03<00:00, 343.78it/s, 15 steps of size 4.06e-01. acc. prob=0.87]\n",
      "sample: 100%|██████████| 1100/1100 [00:03<00:00, 337.80it/s, 15 steps of size 4.37e-01. acc. prob=0.87]\n",
      "sample: 100%|██████████| 1100/1100 [00:03<00:00, 359.55it/s, 7 steps of size 4.54e-01. acc. prob=0.85]\n",
      "sample: 100%|██████████| 1100/1100 [00:04<00:00, 233.19it/s, 7 steps of size 4.27e-01. acc. prob=0.85] \n",
      "sample: 100%|██████████| 1100/1100 [00:03<00:00, 305.98it/s, 15 steps of size 3.99e-01. acc. prob=0.87]\n",
      "sample: 100%|██████████| 1100/1100 [00:03<00:00, 327.89it/s, 23 steps of size 4.28e-01. acc. prob=0.86]\n",
      "sample: 100%|██████████| 1100/1100 [00:03<00:00, 318.40it/s, 7 steps of size 4.28e-01. acc. prob=0.87]\n",
      "sample: 100%|██████████| 1100/1100 [00:03<00:00, 331.84it/s, 103 steps of size 4.34e-01. acc. prob=0.87]\n",
      "sample: 100%|██████████| 1100/1100 [00:03<00:00, 360.94it/s, 15 steps of size 4.17e-01. acc. prob=0.87]\n",
      "sample: 100%|██████████| 1100/1100 [00:03<00:00, 343.89it/s, 15 steps of size 4.00e-01. acc. prob=0.88]\n",
      "sample: 100%|██████████| 1100/1100 [00:03<00:00, 327.21it/s, 31 steps of size 4.27e-01. acc. prob=0.88]\n",
      "sample: 100%|██████████| 1100/1100 [00:03<00:00, 337.76it/s, 31 steps of size 4.36e-01. acc. prob=0.87]\n",
      "sample: 100%|██████████| 1100/1100 [00:03<00:00, 354.77it/s, 15 steps of size 4.13e-01. acc. prob=0.86]\n",
      "sample: 100%|██████████| 1100/1100 [00:03<00:00, 342.17it/s, 15 steps of size 3.91e-01. acc. prob=0.89]\n",
      "sample: 100%|██████████| 1100/1100 [00:03<00:00, 360.99it/s, 15 steps of size 4.22e-01. acc. prob=0.88]\n",
      "sample: 100%|██████████| 1100/1100 [00:03<00:00, 346.51it/s, 15 steps of size 4.06e-01. acc. prob=0.86]\n",
      "sample: 100%|██████████| 1100/1100 [00:03<00:00, 314.72it/s, 15 steps of size 3.81e-01. acc. prob=0.88]\n",
      "sample: 100%|██████████| 1100/1100 [00:03<00:00, 336.41it/s, 15 steps of size 3.96e-01. acc. prob=0.88]\n",
      "sample: 100%|██████████| 1100/1100 [00:03<00:00, 356.26it/s, 15 steps of size 4.04e-01. acc. prob=0.88]\n",
      "sample: 100%|██████████| 1100/1100 [00:03<00:00, 358.82it/s, 15 steps of size 3.94e-01. acc. prob=0.87]\n",
      "sample: 100%|██████████| 1100/1100 [00:03<00:00, 336.00it/s, 15 steps of size 3.87e-01. acc. prob=0.90]\n",
      "sample: 100%|██████████| 1100/1100 [00:03<00:00, 363.53it/s, 15 steps of size 3.55e-01. acc. prob=0.89]\n",
      "sample: 100%|██████████| 1100/1100 [00:03<00:00, 326.76it/s, 7 steps of size 4.49e-01. acc. prob=0.86]\n",
      "sample: 100%|██████████| 1100/1100 [00:03<00:00, 315.60it/s, 7 steps of size 4.48e-01. acc. prob=0.85]\n",
      "sample: 100%|██████████| 1100/1100 [00:03<00:00, 320.76it/s, 7 steps of size 4.34e-01. acc. prob=0.87]\n",
      "sample: 100%|██████████| 1100/1100 [00:03<00:00, 315.46it/s, 7 steps of size 4.08e-01. acc. prob=0.87] \n",
      "sample: 100%|██████████| 1100/1100 [00:03<00:00, 339.70it/s, 15 steps of size 4.03e-01. acc. prob=0.87]\n",
      "sample: 100%|██████████| 1100/1100 [00:03<00:00, 325.49it/s, 15 steps of size 4.00e-01. acc. prob=0.87]\n",
      "sample: 100%|██████████| 1100/1100 [00:03<00:00, 346.36it/s, 7 steps of size 4.52e-01. acc. prob=0.86]\n",
      "sample: 100%|██████████| 1100/1100 [00:03<00:00, 344.02it/s, 15 steps of size 3.99e-01. acc. prob=0.86]\n",
      "sample: 100%|██████████| 1100/1100 [00:03<00:00, 345.68it/s, 15 steps of size 3.92e-01. acc. prob=0.88]\n",
      "sample: 100%|██████████| 1100/1100 [00:03<00:00, 326.07it/s, 15 steps of size 3.89e-01. acc. prob=0.88]\n",
      "sample: 100%|██████████| 1100/1100 [00:03<00:00, 336.60it/s, 15 steps of size 4.21e-01. acc. prob=0.86]\n",
      "sample: 100%|██████████| 1100/1100 [00:03<00:00, 303.31it/s, 15 steps of size 3.89e-01. acc. prob=0.88] \n",
      "sample: 100%|██████████| 1100/1100 [00:03<00:00, 339.72it/s, 7 steps of size 4.24e-01. acc. prob=0.87]\n"
     ]
    }
   ],
   "source": [
    "fixed_params = samples.copy()\n",
    "del fixed_params['ability']\n",
    "\n",
    "rng = np.random.default_rng()\n",
    "sample_ids = rng.choice(fixed_params['difficulty'].shape[0], size=50, replace=False)\n",
    "\n",
    "def get_posterior(sample_id):\n",
    "    tmp = {k : v[sample_id] for k, v in fixed_params.items()}\n",
    "    predictive_model = condition(model3pl, tmp)\n",
    "    kernel_pred = NUTS(predictive_model)\n",
    "    mcmc_pred   = MCMC(kernel_pred, num_warmup=1000, num_samples=100)\n",
    "\n",
    "    mcmc_pred.run(\n",
    "        rng_key, \n",
    "        scores = jnp.reshape(preds, (-1)),\n",
    "        n_students = preds.shape[0],\n",
    "        n_questions = preds.shape[1])\n",
    "    \n",
    "    return mcmc_pred.get_samples()['ability']\n",
    "\n",
    "res = [get_posterior(sample_id) for sample_id in sample_ids]"
   ]
  },
  {
   "cell_type": "markdown",
   "id": "1507e671",
   "metadata": {},
   "source": [
    "## Analysis of the results\n"
   ]
  },
  {
   "cell_type": "code",
   "execution_count": 8,
   "id": "33ebc5be",
   "metadata": {},
   "outputs": [
    {
     "name": "stderr",
     "output_type": "stream",
     "text": [
      "/home/carlos/.local/share/virtualenvs/pyro-wwuZHPNO/lib/python3.11/site-packages/jax/_src/numpy/lax_numpy.py:3652: UserWarning: 'kind' argument to argsort is ignored; only 'stable' sorts are supported.\n",
      "  warnings.warn(\"'kind' argument to argsort is ignored; only 'stable' sorts \"\n"
     ]
    },
    {
     "data": {
      "image/png": "[encoded data removed]",
      "text/plain": [
       "<Figure size 1000x500 with 1 Axes>"
      ]
     },
     "metadata": {},
     "output_type": "display_data"
    }
   ],
   "source": [
    "estimated_abilities = jnp.vstack(res)\n",
    "order = np.argsort(estimated_abilities.mean(axis = 0))\n",
    "tmp = [estimated_abilities[:,i] for i in order]\n",
    "ordered_abilities = abilities[order]\n",
    "pred_means = [x.mean() for x in tmp]\n",
    "tmp_errors = [2 * np.std(x) for x in tmp]\n",
    "\n",
    "tmp_x = range(len(tmp))\n",
    "\n",
    "fig, ax = plt.subplots()\n",
    "ax.errorbar(pred_means, tmp_x, xerr = tmp_errors, fmt = 'o', alpha = .3)\n",
    "ax.scatter(ordered_abilities, tmp_x);"
   ]
  },
  {
   "cell_type": "code",
   "execution_count": 9,
   "id": "267087b1",
   "metadata": {},
   "outputs": [
    {
     "data": {
      "image/png": "[encoded data removed]",
      "text/plain": [
       "<Figure size 1000x500 with 1 Axes>"
      ]
     },
     "metadata": {},
     "output_type": "display_data"
    }
   ],
   "source": [
    "errors = pred_means - ordered_abilities\n",
    "\n",
    "order = np.argsort(errors)\n",
    "tmp = [estimated_abilities[:,i] for i in order]\n",
    "errors = errors[order]\n",
    "pred_means = [x.mean() for x in tmp]\n",
    "tmp_errors = [2 * np.std(x) for x in tmp]\n",
    "\n",
    "fig, ax = plt.subplots()\n",
    "ax.errorbar(np.zeros(len(pred_means)), tmp_x, xerr = tmp_errors, fmt = 'o', alpha = .3)\n",
    "ax.scatter(errors, tmp_x)\n",
    "plt.show()"
   ]
  },
  {
   "cell_type": "code",
   "execution_count": null,
   "id": "43e8246c",
   "metadata": {},
   "outputs": [],
   "source": []
  }
 ],
 "metadata": {
  "kernelspec": {
   "display_name": "Python 3 (ipykernel)",
   "language": "python",
   "name": "python3"
  },
  "language_info": {
   "codemirror_mode": {
    "name": "ipython",
    "version": 3
   },
   "file_extension": ".py",
   "mimetype": "text/x-python",
   "name": "python",
   "nbconvert_exporter": "python",
   "pygments_lexer": "ipython3",
   "version": "3.11.4"
  }
 },
 "nbformat": 4,
 "nbformat_minor": 5
}
